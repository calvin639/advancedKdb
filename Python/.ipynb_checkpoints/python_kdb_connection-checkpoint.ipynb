{
 "cells": [
  {
   "cell_type": "code",
   "execution_count": null,
   "metadata": {},
   "outputs": [],
   "source": [
    "#This script requires that you have a q process running on port 51001\n",
    "#This could be the TP set up from previous exercise or other. "
   ]
  },
  {
   "cell_type": "code",
   "execution_count": 1,
   "metadata": {},
   "outputs": [],
   "source": [
    "#Import relevent packages\n",
    "import pandas as pd\n",
    "import numpy as np\n",
    "import q"
   ]
  },
  {
   "cell_type": "code",
   "execution_count": 344,
   "metadata": {},
   "outputs": [
    {
     "data": {
      "text/html": [
       "<div>\n",
       "<style scoped>\n",
       "    .dataframe tbody tr th:only-of-type {\n",
       "        vertical-align: middle;\n",
       "    }\n",
       "\n",
       "    .dataframe tbody tr th {\n",
       "        vertical-align: top;\n",
       "    }\n",
       "\n",
       "    .dataframe thead th {\n",
       "        text-align: right;\n",
       "    }\n",
       "</style>\n",
       "<table border=\"1\" class=\"dataframe\">\n",
       "  <thead>\n",
       "    <tr style=\"text-align: right;\">\n",
       "      <th></th>\n",
       "      <th>date</th>\n",
       "      <th>time</th>\n",
       "      <th>sym</th>\n",
       "      <th>price</th>\n",
       "      <th>size</th>\n",
       "      <th>ex</th>\n",
       "    </tr>\n",
       "  </thead>\n",
       "  <tbody>\n",
       "    <tr>\n",
       "      <th>0</th>\n",
       "      <td>2019-10-13</td>\n",
       "      <td>00:41:09.207</td>\n",
       "      <td>APPL</td>\n",
       "      <td>9.929108</td>\n",
       "      <td>25</td>\n",
       "      <td>LDN</td>\n",
       "    </tr>\n",
       "    <tr>\n",
       "      <th>1</th>\n",
       "      <td>2019-10-13</td>\n",
       "      <td>01:43:58.622</td>\n",
       "      <td>AMZ</td>\n",
       "      <td>7.227496</td>\n",
       "      <td>38</td>\n",
       "      <td>NYC</td>\n",
       "    </tr>\n",
       "    <tr>\n",
       "      <th>2</th>\n",
       "      <td>2019-10-13</td>\n",
       "      <td>04:39:30.300</td>\n",
       "      <td>BMW</td>\n",
       "      <td>8.236115</td>\n",
       "      <td>54</td>\n",
       "      <td>NYC</td>\n",
       "    </tr>\n",
       "    <tr>\n",
       "      <th>3</th>\n",
       "      <td>2019-10-13</td>\n",
       "      <td>00:08:12.640</td>\n",
       "      <td>FROG</td>\n",
       "      <td>3.865843</td>\n",
       "      <td>77</td>\n",
       "      <td>LDN</td>\n",
       "    </tr>\n",
       "    <tr>\n",
       "      <th>4</th>\n",
       "      <td>2019-10-13</td>\n",
       "      <td>03:20:42.011</td>\n",
       "      <td>APPL</td>\n",
       "      <td>9.931491</td>\n",
       "      <td>67</td>\n",
       "      <td>NYC</td>\n",
       "    </tr>\n",
       "  </tbody>\n",
       "</table>\n",
       "</div>"
      ],
      "text/plain": [
       "         date          time   sym     price  size   ex\n",
       "0  2019-10-13  00:41:09.207  APPL  9.929108    25  LDN\n",
       "1  2019-10-13  01:43:58.622   AMZ  7.227496    38  NYC\n",
       "2  2019-10-13  04:39:30.300   BMW  8.236115    54  NYC\n",
       "3  2019-10-13  00:08:12.640  FROG  3.865843    77  LDN\n",
       "4  2019-10-13  03:20:42.011  APPL  9.931491    67  NYC"
      ]
     },
     "execution_count": 344,
     "metadata": {},
     "output_type": "execute_result"
    }
   ],
   "source": [
    "#Create a pandas df from the trade csv. \n",
    "trade = pd.read_csv(\"trade.csv\")\n",
    "trade.head()"
   ]
  },
  {
   "cell_type": "code",
   "execution_count": 332,
   "metadata": {},
   "outputs": [],
   "source": [
    "#Connect to the Q session.\n",
    "#If running on a server then change localhost to appropriate. \n",
    "conn=q.q('localhost', 51001, 'calvin:password')"
   ]
  },
  {
   "cell_type": "code",
   "execution_count": 343,
   "metadata": {},
   "outputs": [],
   "source": [
    "#Send over a message for each row in the table.\n",
    "for i in np.array(trade[:5]):\n",
    "    conn.k(('.tp.upd[`trade;(\"D\"$\"{0}\";{1};`{2};{3};{4};`{5})]').format(i[0],i[1],i[2],i[3],i[4],i[5]))"
   ]
  }
 ],
 "metadata": {
  "kernelspec": {
   "display_name": "Python 2",
   "language": "python",
   "name": "python2"
  },
  "language_info": {
   "codemirror_mode": {
    "name": "ipython",
    "version": 2
   },
   "file_extension": ".py",
   "mimetype": "text/x-python",
   "name": "python",
   "nbconvert_exporter": "python",
   "pygments_lexer": "ipython2",
   "version": "2.7.16"
  }
 },
 "nbformat": 4,
 "nbformat_minor": 2
}
